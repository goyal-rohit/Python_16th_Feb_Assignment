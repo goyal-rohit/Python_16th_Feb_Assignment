{
 "cells": [
  {
   "cell_type": "markdown",
   "id": "c24078dc-083c-4301-8e15-d84a1db11b00",
   "metadata": {},
   "source": [
    "Q1. What is a database? Differentiate between SQL and NoSQL databases."
   ]
  },
  {
   "cell_type": "markdown",
   "id": "51d646be-84d9-4d43-9451-78bb9fb1776a",
   "metadata": {},
   "source": [
    "A database is an organized collection of data that is stored and managed electronically. It is designed to enable efficient storage, retrieval, and manipulation of data, and is typically accessed through a Database Management System (DBMS).\n",
    "They can contain different types of data, including text, numbers, images, audio, and video."
   ]
  },
  {
   "cell_type": "markdown",
   "id": "bee05704-21f0-41d7-aa1a-a0f2f7a19156",
   "metadata": {},
   "source": [
    "SQL and NoSQL databases are two types of database management systems that differ in their data models, query languages, and scalability. Here are some key differences between the two:\n",
    "\n",
    "1. Data Model:\n",
    "SQL databases use a relational data model, where data is stored in tables with predefined columns and relationships between tables. NoSQL databases, on the other hand, use a non-relational data model, which can take various forms, such as document-oriented, key-value, column-family, or graph databases. NoSQL databases typically offer more flexible data modeling and can handle semi-structured or unstructured data better than SQL databases.\n",
    "\n",
    "2. Query Language:\n",
    "SQL databases use SQL (Structured Query Language) as a standard language for querying and manipulating data. SQL is a declarative language that uses predefined commands to retrieve data from tables, join tables together, and perform complex operations. NoSQL databases, however, use different query languages depending on the type of database. For example, document-oriented databases may use JSON-based queries, while key-value stores may use simple key-based queries.\n",
    "\n",
    "3. Scalability:\n",
    "SQL databases are typically vertically scalable, which means that they require larger hardware resources (e.g., more CPU, RAM, or storage) to handle increased traffic or data volume. NoSQL databases, on the other hand, are horizontally scalable, which means that they can distribute data across multiple servers or nodes to improve performance and handle more traffic or data volume.\n",
    "\n",
    "4. ACID Compliance:\n",
    "SQL databases are typically ACID-compliant, which means that they ensure that transactions are atomic, consistent, isolated, and durable. This ensures data consistency and reliability but may also affect performance. NoSQL databases, on the other hand, may offer different levels of consistency and durability, depending on the database type and configuration.\n",
    "\n",
    "Overall, SQL databases are better suited for applications that require strict data consistency, complex data relationships, and transactions, while NoSQL databases are better suited for applications that require flexible data modeling, high scalability, and handling of large amounts of unstructured data.\n",
    "\n",
    "\n",
    "\n"
   ]
  },
  {
   "cell_type": "markdown",
   "id": "16e63758-b759-4e5c-856f-b565c313e4c5",
   "metadata": {},
   "source": [
    "Q2. What is DDL? Explain why CREATE, DROP, ALTER, and TRUNCATE are used with an example."
   ]
  },
  {
   "cell_type": "markdown",
   "id": "d98f1bac-52e7-4bc8-9aaa-159322044f91",
   "metadata": {},
   "source": [
    "DDL statements are used to define and modify the structure of a database and its objects.\n",
    "\n",
    "The CREATE statement creates new objects, the DROP statement removes existing objects, the ALTER statement modifies existing objects, and the TRUNCATE statement removes data from a table. These statements are essential for managing the schema of a database and ensuring its integrity and consistency."
   ]
  },
  {
   "cell_type": "markdown",
   "id": "405b8580-a5ff-49d8-9920-ad83d916c660",
   "metadata": {},
   "source": [
    "Q3. What is DML? Explain INSERT, UPDATE, and DELETE with an example."
   ]
  },
  {
   "cell_type": "markdown",
   "id": "6ecf2da4-5388-438d-835a-0457b30eff91",
   "metadata": {},
   "source": [
    "DML statements are used to manipulate the data within a database table.\n",
    "\n",
    "The INSERT statement adds new data, the UPDATE statement modifies existing data, and the DELETE statement removes data. \n",
    "\n",
    "These statements are essential for managing the content of a database and ensuring its accuracy and completeness."
   ]
  },
  {
   "cell_type": "markdown",
   "id": "40cf3fce-689c-450f-8cb8-5cbe0f1f1e0f",
   "metadata": {},
   "source": [
    "Q4. What is DQL? Explain SELECT with an example."
   ]
  },
  {
   "cell_type": "markdown",
   "id": "2cd25566-7c8b-4779-b3d4-afbe64cea106",
   "metadata": {},
   "source": [
    "DQL stands for Data Query Language, which is a set of SQL statements used to retrieve data from a database. DQL statements are used to query the data within a database table and return the results based on specific criteria.\n",
    "\n",
    "The most commonly used DQL statement is SELECT. The SELECT statement is used to retrieve data from one or more database tables based on specified conditions."
   ]
  },
  {
   "cell_type": "markdown",
   "id": "fe72f7ec-9a5b-4915-bd57-11b5d38d090a",
   "metadata": {},
   "source": [
    "The SELECT statement is composed of several parts:\n",
    "    \n",
    "    SELECT: specifies the columns to retrieve\n",
    "    FROM: specifies the table or tables to retrieve the data from\n",
    "    WHERE: specifies the conditions that must be met for the data to be retrieved\n",
    "\n",
    "In addition to these basic components, the SELECT statement can include other elements, such as functions, grouping, sorting, and joining."
   ]
  },
  {
   "cell_type": "markdown",
   "id": "f8bac954-e6f3-4fdc-b470-a8648ff20614",
   "metadata": {},
   "source": [
    "Q5. Explain Primary Key and Foreign Key."
   ]
  },
  {
   "cell_type": "markdown",
   "id": "4c8e169f-1257-4bf8-a3f0-2d98a3e63636",
   "metadata": {},
   "source": [
    "A Primary Key is a column or group of columns that uniquely identifies each row in a table. Primary Keys must be unique and not null, and they are used to ensure that each row in a table can be uniquely identified. Primary Keys are often used as a reference for other tables to create relationships. In most cases, Primary Keys are automatically indexed for faster data retrieval."
   ]
  },
  {
   "cell_type": "markdown",
   "id": "67fef321-a451-4594-b91d-7d79cf9d6c5c",
   "metadata": {},
   "source": [
    "A Foreign Key is a column or group of columns in one table that references the Primary Key of another table. Foreign Keys are used to create relationships between tables and ensure that data is consistent across tables. They are often used to enforce referential integrity and prevent data inconsistencies. Foreign Keys are usually denoted by a foreign key icon in the database schema."
   ]
  },
  {
   "cell_type": "markdown",
   "id": "c9e96bbf-ba60-44fd-b445-37fd4452532f",
   "metadata": {},
   "source": [
    "Q6. Write a python code to connect MySQL to python. Explain the cursor() and execute() method."
   ]
  },
  {
   "cell_type": "code",
   "execution_count": null,
   "id": "1d0ea8f4-360d-4561-b463-cd3a589cdd73",
   "metadata": {},
   "outputs": [],
   "source": [
    "import mysql.connector\n",
    "mydb = mysql.connector.connect(\n",
    "    host = 'localhost',\n",
    "    user = 'abc',\n",
    "    password = 'password'\n",
    ")"
   ]
  },
  {
   "cell_type": "markdown",
   "id": "1f9c2648-7608-46a6-ac39-81eb736f48c9",
   "metadata": {},
   "source": [
    "The cursor() method creates a cursor object that can be used to execute SQL statements and fetch data from the database. The cursor object acts as a pointer to a specific location in the result set and allows for iterating over the results. The cursor object is typically created by calling the cursor() method on a database connection object"
   ]
  },
  {
   "cell_type": "markdown",
   "id": "128d090d-845b-4a21-95ab-3199b55f5cb4",
   "metadata": {},
   "source": [
    "The execute() method is used to execute a SQL statement on the database. The method takes a SQL statement as a parameter and returns the number of rows affected by the operation."
   ]
  },
  {
   "cell_type": "markdown",
   "id": "e0befa9a-0fc4-4ca6-9657-5629e403035f",
   "metadata": {},
   "source": [
    "Q7. Give the order of execution of SQL clauses in an SQL query."
   ]
  },
  {
   "cell_type": "markdown",
   "id": "a2c8a8d4-f27e-4e47-ad1c-10c1585edeea",
   "metadata": {},
   "source": [
    "The order of execution of SQL clauses in an SQL query is as follows:\n",
    "\n",
    "1. FROM: The FROM clause specifies the table or tables from which to retrieve data.\n",
    "\n",
    "2. WHERE: The WHERE clause filters the results based on a specified condition.\n",
    "\n",
    "3. GROUP BY: The GROUP BY clause groups the results based on one or more columns.\n",
    "\n",
    "4. HAVING: The HAVING clause filters the results of a GROUP BY query based on a specified condition.\n",
    "\n",
    "5. SELECT: The SELECT clause retrieves the specified columns or expressions from the database.\n",
    "\n",
    "6. DISTINCT: The DISTINCT keyword removes duplicate rows from the result set.\n",
    "\n",
    "7. ORDER BY: The ORDER BY clause sorts the results based on one or more columns.\n",
    "\n",
    "8. LIMIT: The LIMIT clause limits the number of rows returned by the query."
   ]
  },
  {
   "cell_type": "code",
   "execution_count": null,
   "id": "644e6d6b-096f-4a14-a96c-039d543a1969",
   "metadata": {},
   "outputs": [],
   "source": []
  }
 ],
 "metadata": {
  "kernelspec": {
   "display_name": "Python 3 (ipykernel)",
   "language": "python",
   "name": "python3"
  },
  "language_info": {
   "codemirror_mode": {
    "name": "ipython",
    "version": 3
   },
   "file_extension": ".py",
   "mimetype": "text/x-python",
   "name": "python",
   "nbconvert_exporter": "python",
   "pygments_lexer": "ipython3",
   "version": "3.9.13"
  }
 },
 "nbformat": 4,
 "nbformat_minor": 5
}
